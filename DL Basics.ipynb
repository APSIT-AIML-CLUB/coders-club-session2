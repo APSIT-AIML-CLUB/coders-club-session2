{
  "cells": [
    {
      "cell_type": "markdown",
      "metadata": {
        "id": "nH_cXs_a-G4P"
      },
      "source": [
        "### In this notebook, we're working with the MNIST dataset, a collection of 70,000 grayscale images of handwritten digits (0-9).\n",
        "### The MNIST dataset is a standard benchmark in machine learning and serves as an excellent introduction to image classification tasks."
      ]
    },
    {
      "cell_type": "markdown",
      "metadata": {
        "id": "FOj1QM26-G4Q"
      },
      "source": [
        "**Each image is 28x28 pixels, represented as a 2D array. We'll:**\n",
        "1. Load the dataset (split into 60,000 training and 10,000 test images)\n",
        "2. Normalize pixel values from [0-255] to [0-1]\n",
        "3. Build a simple neural network using TensorFlow/Keras\n",
        "4. Train the model to recognize handwritten digits\n",
        "5. Evaluate the model and visualize predictions\n",
        "---"
      ]
    },
    {
      "cell_type": "markdown",
      "metadata": {
        "id": "FIIO-awU-G4Q"
      },
      "source": [
        "- Importing the necessary libraries for working with TensorFlow, a popular machine learning framework. Here is a breakdown of what each import statement does:"
      ]
    },
    {
      "cell_type": "code",
      "execution_count": null,
      "metadata": {
        "id": "dvoV0aKoxpdT"
      },
      "outputs": [],
      "source": [
        "import tensorflow as tf\n",
        "from tensorflow import keras\n",
        "import numpy as np\n",
        "import matplotlib.pyplot as plt\n"
      ]
    },
    {
      "cell_type": "markdown",
      "metadata": {
        "id": "PVq6664T-G4S"
      },
      "source": [
        "- Loading the MNIST dataset using the `load_data()` function from the `keras.datasets.mnist` module.\n",
        "- It assigns the training images to `x_train`, training labels to `y_train`, testing images to `x_test`, and testing labels to `y_test`."
      ]
    },
    {
      "cell_type": "code",
      "execution_count": null,
      "metadata": {
        "colab": {
          "base_uri": "https://localhost:8080/"
        },
        "id": "plz3220zxxTS",
        "outputId": "10ea950a-31ef-4359-af38-0ed015ea3075"
      },
      "outputs": [
        {
          "output_type": "stream",
          "name": "stdout",
          "text": [
            "Downloading data from https://storage.googleapis.com/tensorflow/tf-keras-datasets/mnist.npz\n",
            "\u001b[1m11490434/11490434\u001b[0m \u001b[32m━━━━━━━━━━━━━━━━━━━━\u001b[0m\u001b[37m\u001b[0m \u001b[1m0s\u001b[0m 0us/step\n"
          ]
        }
      ],
      "source": [
        "(x_train, y_train), (x_test, y_test) = keras.datasets.mnist.load_data()"
      ]
    },
    {
      "cell_type": "code",
      "source": [
        "# Define the training and testing split ratio\n",
        "split_ratio = 0.8  # 80% training, 20% testing\n",
        "train_size = int(len(x_train) * split_ratio)\n",
        "\n",
        "# Split the dataset\n",
        "x_train, x_test = x_train[:train_size], x_train[train_size:]\n",
        "y_train, y_test = y_train[:train_size], y_train[train_size:]\n"
      ],
      "metadata": {
        "id": "QdOJK384qGoz"
      },
      "execution_count": null,
      "outputs": []
    },
    {
      "cell_type": "code",
      "execution_count": null,
      "metadata": {
        "id": "UM9i2xD-x7Tg"
      },
      "outputs": [],
      "source": [
        "x_train, x_test = x_train / 255.0, x_test / 255.0"
      ]
    },
    {
      "cell_type": "markdown",
      "metadata": {
        "id": "Hcrb23MQ-G4S"
      },
      "source": [
        "- Defining a simple neural network model using the Keras library."
      ]
    },
    {
      "cell_type": "code",
      "execution_count": null,
      "metadata": {
        "id": "Tj1GhK_dx_Xj"
      },
      "outputs": [],
      "source": [
        "# Define a simple neural network model\n",
        "model = keras.Sequential([\n",
        "    keras.layers.Input(shape=(28, 28)), # Input layer with shape (28, 28)\n",
        "    keras.layers.Flatten(),             # Flatten the 28x28 images to a 1D vector\n",
        "    keras.layers.Dense(128, activation='relu'),  # Hidden layer with 128 neurons and ReLU activation\n",
        "    keras.layers.Dense(10, activation='softmax') # Output layer with 10 neurons (digits 0-9) and softmax activation\n",
        "])\n"
      ]
    },
    {
      "cell_type": "markdown",
      "metadata": {
        "id": "x4SrLi5x-G4T"
      },
      "source": [
        "## Understanding Model Compilation in Simple Terms\n",
        "When you're creating a neural network, \"compiling\" is like setting up the rules for how your model will learn. It's similar to preparing for a exam:\n",
        "\n",
        "### The Three Key Parts:\n",
        "1. **Optimizer (Adam):**<br>\n",
        "This is like your study strategy. The optimizer (in this case \"Adam\") decides how to adjust your model when it makes mistakes. Think of it as:\n",
        "- A smart tutor that helps you improve step by step\n",
        "- It decides how big or small changes should be\n",
        "- Adam is popular because it adapts as it goes - like a tutor who adjusts teaching methods based on what's working\n",
        "\n",
        "2. **Loss Function (Sparse Categorical Crossentropy):**<br>\n",
        "This is the test itself - how we measure mistakes. The *sparse categorical crossentropy* is:\n",
        "- A way to score how badly your model messed up when predicting categories (like digits 0-9)\n",
        "- The word \"sparse\" just means the correct answers are single numbers, not lists\n",
        "- Lower score = better performance\n",
        "\n",
        "3. **Metrics (Accuracy):**<br>\n",
        "This is like your grade report - how we track progress. \"Accuracy\" simply means:\n",
        "- The percentage of examples the model got right.\n",
        "- Easy to understand: 90% accuracy means 9 out of 10 predictions were correct."
      ]
    },
    {
      "cell_type": "markdown",
      "metadata": {
        "id": "m3fkx64d-G4T"
      },
      "source": [
        "### In Everyday Terms:\n",
        "When you compile a model, you're just saying:<br>\n",
        "1. \"Here's how I want you to learn\" (optimizer)\n",
        "2. \"Here's how I'll measure your mistakes\" (loss function)\n",
        "3. \"Here's what score I care about seeing\" (metrics)"
      ]
    },
    {
      "cell_type": "code",
      "execution_count": null,
      "metadata": {
        "id": "VqfEinE_yINh"
      },
      "outputs": [],
      "source": [
        "model.compile(optimizer='adam',\n",
        "              loss='sparse_categorical_crossentropy',\n",
        "              metrics=['accuracy'])"
      ]
    },
    {
      "cell_type": "markdown",
      "metadata": {
        "id": "OCbbk3uX-G4T"
      },
      "source": [
        "- `model.fit(x_train, y_train, epochs=5)` is training the model using the training data `x_train` and corresponding labels `y_train` for 5 epochs.\n",
        "- During each epoch, the model will iterate over the training data multiple times, adjusting its weights to minimize the loss function and improve its performance on the training data."
      ]
    },
    {
      "cell_type": "code",
      "execution_count": null,
      "metadata": {
        "colab": {
          "base_uri": "https://localhost:8080/"
        },
        "id": "fq9sYCFnyQ1S",
        "outputId": "31cd19a8-7fca-4707-a02b-b3bf464dd03c"
      },
      "outputs": [
        {
          "output_type": "stream",
          "name": "stdout",
          "text": [
            "Epoch 1/5\n",
            "\u001b[1m1500/1500\u001b[0m \u001b[32m━━━━━━━━━━━━━━━━━━━━\u001b[0m\u001b[37m\u001b[0m \u001b[1m6s\u001b[0m 3ms/step - accuracy: 0.8658 - loss: 0.4696\n",
            "Epoch 2/5\n",
            "\u001b[1m1500/1500\u001b[0m \u001b[32m━━━━━━━━━━━━━━━━━━━━\u001b[0m\u001b[37m\u001b[0m \u001b[1m3s\u001b[0m 2ms/step - accuracy: 0.9619 - loss: 0.1325\n",
            "Epoch 3/5\n",
            "\u001b[1m1500/1500\u001b[0m \u001b[32m━━━━━━━━━━━━━━━━━━━━\u001b[0m\u001b[37m\u001b[0m \u001b[1m5s\u001b[0m 2ms/step - accuracy: 0.9747 - loss: 0.0858\n",
            "Epoch 4/5\n",
            "\u001b[1m1500/1500\u001b[0m \u001b[32m━━━━━━━━━━━━━━━━━━━━\u001b[0m\u001b[37m\u001b[0m \u001b[1m5s\u001b[0m 2ms/step - accuracy: 0.9811 - loss: 0.0635\n",
            "Epoch 5/5\n",
            "\u001b[1m1500/1500\u001b[0m \u001b[32m━━━━━━━━━━━━━━━━━━━━\u001b[0m\u001b[37m\u001b[0m \u001b[1m3s\u001b[0m 2ms/step - accuracy: 0.9863 - loss: 0.0471\n"
          ]
        },
        {
          "output_type": "execute_result",
          "data": {
            "text/plain": [
              "<keras.src.callbacks.history.History at 0x7fbb56fa09d0>"
            ]
          },
          "metadata": {},
          "execution_count": 7
        }
      ],
      "source": [
        "# Train the model\n",
        "model.fit(x_train, y_train, epochs=5)"
      ]
    },
    {
      "cell_type": "markdown",
      "metadata": {
        "id": "0CyYCqWe-G4T"
      },
      "source": [
        "- This code snippet is evaluating the trained model on the test set data.\n",
        "- It calculates the loss and accuracy of the model's predictions on the test set. The `model.evaluate(x_test, y_test)` function computes the loss and any specified metrics for the test set.\n",
        "- The resulting test loss and test accuracy are then printed out using `print(f'\\nTest accuracy: {test_acc:.4f}')`.\n",
        "- This step helps to assess how well the model generalizes to unseen data and provides insights into its performance.\n"
      ]
    },
    {
      "cell_type": "code",
      "execution_count": null,
      "metadata": {
        "colab": {
          "base_uri": "https://localhost:8080/"
        },
        "id": "0o3rz790-G4T",
        "outputId": "93ce29a5-fc25-42d4-99bb-87ad13488d65"
      },
      "outputs": [
        {
          "output_type": "stream",
          "name": "stdout",
          "text": [
            "\u001b[1m375/375\u001b[0m \u001b[32m━━━━━━━━━━━━━━━━━━━━\u001b[0m\u001b[37m\u001b[0m \u001b[1m1s\u001b[0m 2ms/step - accuracy: 0.9713 - loss: 0.0945\n",
            "\n",
            "Test accuracy: 0.9733\n"
          ]
        }
      ],
      "source": [
        "\n",
        "# Evaluate the model on the test set\n",
        "test_loss, test_acc = model.evaluate(x_test, y_test)\n",
        "print(f'\\nTest accuracy: {test_acc:.4f}')\n"
      ]
    },
    {
      "cell_type": "markdown",
      "metadata": {
        "id": "RfexWvi4-G4U"
      },
      "source": [
        "- Making predictions using a machine learning model (`model`) on the test data (`x_test`). It then displays a sample image from the test data (at index 7) along with the predicted label for that image.\n",
        "- The predicted label is obtained by finding the index of the highest probability in the predictions array for that image.\n",
        "- Finally, it shows the image and its predicted label using matplotlib's `imshow` and `title` functions.\n"
      ]
    },
    {
      "cell_type": "code",
      "execution_count": null,
      "metadata": {
        "colab": {
          "base_uri": "https://localhost:8080/",
          "height": 469
        },
        "id": "aaXlY8GVybC7",
        "outputId": "24b53c12-4e08-4dd5-ee6d-5e336c0efbfa"
      },
      "outputs": [
        {
          "output_type": "stream",
          "name": "stdout",
          "text": [
            "\u001b[1m375/375\u001b[0m \u001b[32m━━━━━━━━━━━━━━━━━━━━\u001b[0m\u001b[37m\u001b[0m \u001b[1m0s\u001b[0m 1ms/step\n"
          ]
        },
        {
          "output_type": "display_data",
          "data": {
            "text/plain": [
              "<Figure size 640x480 with 1 Axes>"
            ],
            "image/png": "[encoded data removed]"
          },
          "metadata": {}
        }
      ],
      "source": [
        "# Predict using the model\n",
        "predictions = model.predict(x_test)\n",
        "\n",
        "# Display a sample image and its prediction\n",
        "plt.imshow(x_test[9], cmap=plt.cm.binary)\n",
        "plt.title(f'Predicted Label: {np.argmax(predictions[9])}')\n",
        "plt.show()\n"
      ]
    },
    {
      "cell_type": "code",
      "source": [
        "# Display weights and biases for each Dense layer\n",
        "for layer in model.layers:\n",
        "    if isinstance(layer, keras.layers.Dense):  # Only check Dense layers\n",
        "        weights, biases = layer.get_weights()\n",
        "        print(f'Layer: {layer.name}')\n",
        "        print(f'Weight shape: {weights.shape}')\n",
        "        print(f'Bias shape: {biases.shape}')\n",
        "        print(f'First few weights: {weights.flatten()[:5]}')  # Print some weights\n",
        "        print(f'First few biases: {biases[:5]}\\n')  # Print some biases\n"
      ],
      "metadata": {
        "id": "U_2HuI8gxuEx",
        "outputId": "4f887f95-7a02-49dd-d76b-038a6eee6d53",
        "colab": {
          "base_uri": "https://localhost:8080/"
        }
      },
      "execution_count": null,
      "outputs": [
        {
          "output_type": "stream",
          "name": "stdout",
          "text": [
            "Layer: dense\n",
            "Weight shape: (784, 128)\n",
            "Bias shape: (128,)\n",
            "First few weights: [-0.07052038 -0.07771616 -0.01744411  0.07634378 -0.0429487 ]\n",
            "First few biases: [-2.8326606e-02  1.5086271e-01  2.1045977e-02 -4.8609160e-02\n",
            " -7.4127165e-05]\n",
            "\n",
            "Layer: dense_1\n",
            "Weight shape: (128, 10)\n",
            "Bias shape: (10,)\n",
            "First few weights: [ 0.09093396  0.14004122 -0.01935348 -0.2832253   0.21875705]\n",
            "First few biases: [-0.09293234 -0.03846778 -0.02291208  0.00240456 -0.02835173]\n",
            "\n"
          ]
        }
      ]
    }
  ],
  "metadata": {
    "colab": {
      "provenance": [],
      "gpuType": "T4"
    },
    "kernelspec": {
      "display_name": "Python 3",
      "name": "python3"
    },
    "language_info": {
      "codemirror_mode": {
        "name": "ipython",
        "version": 3
      },
      "file_extension": ".py",
      "mimetype": "text/x-python",
      "name": "python",
      "nbconvert_exporter": "python",
      "pygments_lexer": "ipython3",
      "version": "3.12.1"
    },
    "accelerator": "GPU"
  },
  "nbformat": 4,
  "nbformat_minor": 0
}